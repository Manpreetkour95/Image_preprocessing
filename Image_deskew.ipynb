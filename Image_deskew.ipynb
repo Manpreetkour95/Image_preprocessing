{
 "cells": [
  {
   "cell_type": "markdown",
   "metadata": {},
   "source": [
    "# Image Deskewing"
   ]
  },
  {
   "cell_type": "markdown",
   "metadata": {
    "id": "H83T3t3ounVG"
   },
   "source": [
    "Importing Required Libraries"
   ]
  },
  {
   "cell_type": "code",
   "execution_count": null,
   "metadata": {},
   "outputs": [],
   "source": [
    "import numpy as np\n",
    "from skimage import io\n",
    "from skimage.color import rgb2gray\n",
    "from skimage.transform import rotate\n",
    "\n",
    "from deskew import determine_skew\n",
    "\n"
   ]
  },
  {
   "cell_type": "code",
   "execution_count": null,
   "metadata": {},
   "outputs": [],
   "source": [
    "image = io.imread('MK.jpg')\n",
    "grayscale = rgb2gray(image)\n",
    "\n",
    "#Getting skew angle\n",
    "angle = determine_skew(grayscale)\n",
    "\n",
    "#Rotating the img using the skew angle\n",
    "rotated = rotate(image, angle, resize=True) * 255\n",
    "io.imsave('output.png', rotated.astype(np.uint8))"
   ]
  }
