{
 "cells": [
  {
   "cell_type": "markdown",
   "metadata": {},
   "source": [
    "# Image Deskewing"
   ]
  },
  {
   "cell_type": "markdown",
   "metadata": {
    "id": "H83T3t3ounVG"
   },
   "source": [
    "Importing Required Libraries"
   ]
  },
  {
   "cell_type": "code",
   "execution_count": null,
   "metadata": {},
   "outputs": [],
   "source": [
    "import numpy as np\n",
    "from skimage import io\n",
    "from skimage.color import rgb2gray\n",
    "from skimage.transform import rotate\n",
    "\n",
    "from deskew import determine_skew\n",
    "\n"
   ]
  },
  {
   "cell_type": "code",
   "execution_count": null,
   "metadata": {},
   "outputs": [],
   "source": [
    "image = io.imread('MK.jpg')\n",
    "grayscale = rgb2gray(image)\n",
    "\n",
    "#Getting skew angle\n",
    "angle = determine_skew(grayscale)\n",
    "\n",
    "#Rotating the img using the skew angle\n",
    "rotated = rotate(image, angle, resize=True) * 255\n",
    "io.imsave('output.png', rotated.astype(np.uint8))"
   ]
  }
 ],
 "metadata": {
  "colab": {
   "collapsed_sections": [],
   "name": "seedlings-classification-pytorch-pca-nn-Copy3.ipynb",
   "provenance": []
  },
  "kernelspec": {
   "display_name": "Python 3",
   "language": "python",
   "name": "python3"
  },
  "language_info": {
   "codemirror_mode": {
    "name": "ipython",
    "version": 3
   },
   "file_extension": ".py",
   "mimetype": "text/x-python",
   "name": "python",
   "nbconvert_exporter": "python",
   "pygments_lexer": "ipython3",
   "version": "3.7.6"
  }
 },
 "nbformat": 4,
 "nbformat_minor": 1
}
