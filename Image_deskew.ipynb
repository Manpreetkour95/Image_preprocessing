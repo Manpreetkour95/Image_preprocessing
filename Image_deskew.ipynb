{
 "cells": [
  {
   "cell_type": "markdown",
   "metadata": {},
   "source": [
    "# Image Deskewing"
   ]
  },
  {
   "cell_type": "markdown",
   "metadata": {
    "id": "H83T3t3ounVG"
   },
   "source": [
    "Importing Required Libraries"
   ]
  },
  {
   "cell_type": "code",
   "execution_count": null,
   "metadata": {},
   "outputs": [],
   "source": [
    "import numpy as np\n",
    "from skimage import io\n",
    "from skimage.color import rgb2gray\n",
    "from skimage.transform import rotate\n",
    "\n",
    "from deskew import determine_skew\n",
    "\n"
   ]
  },
  {
   "cell_type": "code",
   "execution_count": null,
   "metadata": {},
   "outputs": [],
   "source": [
    "image = io.imread('MK.jpg')\n",
    "grayscale = rgb2gray(image)\n",
    "\n",
    "#Getting skew angle\n",
    "angle = determine_skew(grayscale)\n",
    "\n",
    "#Rotating the img using the skew angle\n",
    "rotated = rotate(image, angle, resize=True) * 255\n",
    "io.imsave('output.png', rotated.astype(np.uint8))"
   ]
  },
  {
   "cell_type": "markdown",
   "metadata": {},
   "source": [
    "Model building"
   ]
  },
  {
   "cell_type": "markdown",
   "metadata": {},
   "source": [
    "# KNN"
   ]
  },
  {
   "cell_type": "code",
   "execution_count": null,
   "metadata": {
    "id": "1JtlZYP-unVa"
   },
   "outputs": [],
   "source": [
    "NNH = KNeighborsClassifier(n_neighbors= 5 , weights = 'distance' )\n"
   ]
  },
  {
   "cell_type": "code",
   "execution_count": null,
   "metadata": {
    "colab": {
     "base_uri": "https://localhost:8080/"
    },
    "id": "5jVz09v1unVb",
    "outputId": "c9b68682-49b3-4b91-ac51-c8d3d576d6c1"
   },
   "outputs": [
    {
     "data": {
      "text/plain": [
       "KNeighborsClassifier(weights='distance')"
      ]
     },
     "execution_count": 19,
     "metadata": {},
     "output_type": "execute_result"
    }
   ],
   "source": [
    "# Call Nearest Neighbour algorithm\n",
    "\n",
    "NNH.fit(x_train, y_train)"
   ]
  },
  {
   "cell_type": "code",
   "execution_count": null,
   "metadata": {
    "colab": {
     "base_uri": "https://localhost:8080/"
    },
    "id": "TvlZ9nLpunVc",
    "outputId": "01f64fe3-32c5-4601-fed0-2bb6a9168e3b"
   },
   "outputs": [
    {
     "data": {
      "text/plain": [
       "0.2537688442211055"
      ]
     },
     "execution_count": 20,
     "metadata": {},
     "output_type": "execute_result"
    }
   ],
   "source": [
    "# For every test data point, predict it's label based on 5 nearest neighbours in this model. The majority class will \n",
    "# be assigned to the test data point\n",
    "\n",
    "#predicted_labels = NNH.predict(x_test)\n",
    "NNH.score(x_test, y_test)"
   ]
  },
  {
   "cell_type": "markdown",
   "metadata": {},
   "source": [
    "Using KNN we are getting an accuracy of 25%\n"
   ]
  },
  {
   "cell_type": "markdown",
   "metadata": {},
   "source": [
    "# Random Forest Classifier "
   ]
  },
  {
   "cell_type": "code",
   "execution_count": 49,
   "metadata": {
    "id": "6ZXNv-DjunVe"
   },
   "outputs": [],
   "source": [
    "from sklearn.ensemble import RandomForestClassifier\n",
    "rfcl = RandomForestClassifier(n_estimators = 50)\n",
    "rfcl = rfcl.fit(x_train, y_train)\n",
    "\n"
   ]
  },
  {
   "cell_type": "code",
   "execution_count": 51,
   "metadata": {
    "colab": {
     "base_uri": "https://localhost:8080/"
    },
    "id": "cTj-NCjPunVf",
    "outputId": "a7ee2352-e596-425f-f3b7-03ee74f1dd16"
   },
   "outputs": [
    {
     "data": {
      "text/plain": [
       "0.4966442953020134"
      ]
     },
     "execution_count": 51,
     "metadata": {},
     "output_type": "execute_result"
    }
   ],
   "source": [
    "pred_RF = rfcl.predict(x_test)\n",
    "acc_RF = accuracy_score(y_test, pred_RF)\n",
    "\n",
    "acc_RF"
   ]
  },
  {
   "cell_type": "markdown",
   "metadata": {
    "id": "NPfD_jbPunVg"
   },
   "source": [
    "Using Random Forest we are getting an accuracy of 49.6%."
   ]
  },
  {
   "cell_type": "code",
   "execution_count": null,
   "metadata": {
    "id": "NZFONMfEunVi"
   },
   "outputs": [],
   "source": [
    "#Dataset for Neural Network"
   ]
  },
  {
   "cell_type": "code",
   "execution_count": 14,
   "metadata": {
    "colab": {
     "base_uri": "https://localhost:8080/"
    },
    "id": "apg6t08runVi",
    "outputId": "f26e0a06-f070-4bce-d048-0a479e151e81"
   },
   "outputs": [
    {
     "name": "stdout",
     "output_type": "stream",
     "text": [
      "Data Successfully Loadedx = 12, Index = 11\n"
     ]
    }
   ],
   "source": [
    "size=224\n",
    "class Dataset:\n",
    "    def __init__(self):\n",
    "        self.x_path =  r'C:\\Users\\vikra\\OneDrive\\Documents\\AI Notes\\comptr vision\\project1\\train'\n",
    "        self.classes = os.listdir(self.x_path)\n",
    "        self.x_data = []\n",
    "        self.y_data = []\n",
    "        \n",
    "    def __preprocessImage(self, image):\n",
    "        image = np.array(image, dtype = \"float32\")\n",
    "        image = cv2.resize(image, (size, size))\n",
    "        image = np.reshape(image, (size, size, 3)) \n",
    "        image /= 255.0\n",
    "        \n",
    "        return np.array(image, dtype = \"float32\")\n",
    "    \n",
    "    def __extractImages(self, path):\n",
    "        images = os.listdir(path)\n",
    "        for image_path in images:\n",
    "            image = cv2.imread(path + \"/\" + image_path)\n",
    "            self.x_data.append(self.__preprocessImage(image))\n",
    "            self.y_data.append(self.classes.index(path.split(\"/\")[-1]))\n",
    "    def load_data(self):\n",
    "        i = 0\n",
    "        for index in self.classes:\n",
    "            i += 1\n",
    "            self.__extractImages(self.x_path + \"/\" + index)   #\\train\\1'\n",
    "            print(f\"{(i / len(self.classes)) * 100}% Data Loaded, Index = {i}\", end = \"\\r\")\n",
    "        \n",
    "        #self.x_data = np.reshape(self.x_data, (np.shape(self.x_data)[0], 1, size, size, 3))\n",
    "        self.x_data = np.array(self.x_data, dtype = \"float32\")\n",
    "        self.y_data = to_categorical(self.y_data)\n",
    "        self.y_data = np.array(self.y_data, dtype = \"float32\")\n",
    "        \n",
    "        print(\"Data Successfully Loaded\")\n",
    "        return train_test_split(self.x_data, self.y_data, random_state = 42)\n",
    "    \n",
    "dataset = Dataset()\n",
    "x_train, x_test, y_train, y_test = dataset.load_data()\n",
    "#y_train = tf.constant(y_train)\n",
    "#y_test = tf.constant(y_test)\n",
    "\n",
    "#del dataset\n",
    "#gc.collect()\n",
    "            "
   ]
  },
  {
   "cell_type": "code",
   "execution_count": 15,
   "metadata": {
    "colab": {
     "base_uri": "https://localhost:8080/"
    },
    "id": "BqrLKj2xunVk",
    "outputId": "8cdbf2ee-5636-4b01-fa8e-6c2b1e310b71"
   },
   "outputs": [
    {
     "name": "stdout",
     "output_type": "stream",
     "text": [
      "(3575, 12)\n",
      "(3575, 224, 224, 3)\n"
     ]
    }
   ],
   "source": [
    "print(y_train.shape)\n",
    "print(x_train.shape)"
   ]
  },
  {
   "cell_type": "code",
   "execution_count": 16,
   "metadata": {
    "colab": {
     "base_uri": "https://localhost:8080/"
    },
    "id": "dOTbbBbyunVl",
    "outputId": "7da2dce7-9bb4-4930-858a-9df1ce2e70c6"
   },
   "outputs": [
    {
     "name": "stdout",
     "output_type": "stream",
     "text": [
      "X_train shape: (3575, 224, 224, 3)\n",
      "Images in X_train: 3575\n",
      "Images in X_test: 1192\n",
      "Max value in X_train: 1.0\n",
      "Min value in X_train: 0.0\n"
     ]
    }
   ],
   "source": [
    "print(\"X_train shape:\", x_train.shape)\n",
    "print(\"Images in X_train:\", x_train.shape[0])\n",
    "print(\"Images in X_test:\", x_test.shape[0])\n",
    "print(\"Max value in X_train:\", x_train.max())\n",
    "print(\"Min value in X_train:\", x_train.min())\n"
   ]
  },
  {
   "cell_type": "code",
   "execution_count": 17,
   "metadata": {
    "colab": {
     "base_uri": "https://localhost:8080/"
    },
    "id": "iPgRyMxfunVm",
    "outputId": "79ebd2a7-52fb-4b8c-ad0e-c150d1d26f77"
   },
   "outputs": [
    {
     "name": "stdout",
     "output_type": "stream",
     "text": [
      "Shape of y_train: (3575, 12)\n",
      "One value of y_train: [0. 0. 0. 0. 0. 0. 1. 0. 0. 0. 0. 0.]\n"
     ]
    }
   ],
   "source": [
    "from tensorflow.keras.utils import to_categorical\n",
    "\n",
    "#y_train = to_categorical(y_train, num_classes=10)\n",
    "#y_test = to_categorical(y_test, num_classes=10)\n",
    "\n",
    "print(\"Shape of y_train:\", y_train.shape)\n",
    "\n",
    "print(\"One value of y_train:\", y_train[0])"
   ]
  },
  {
   "cell_type": "code",
   "execution_count": 18,
   "metadata": {},
   "outputs": [
    {
     "data": {
      "text/plain": [
       "array([[[[0.25846463, 0.36763832, 0.43251553],\n",
       "         [0.183142  , 0.28381976, 0.3866909 ],\n",
       "         [0.16636029, 0.2703356 , 0.3853379 ],\n",
       "         ...,\n",
       "         [0.19678871, 0.20842962, 0.2370173 ],\n",
       "         [0.17604917, 0.16960658, 0.22261779],\n",
       "         [0.18250799, 0.18366721, 0.22172369]],\n",
       "\n",
       "        [[0.2143545 , 0.30048895, 0.37012053],\n",
       "         [0.15266606, 0.22023934, 0.32206008],\n",
       "         [0.19703756, 0.3220163 , 0.413753  ],\n",
       "         ...,\n",
       "         [0.16366798, 0.1711397 , 0.20251225],\n",
       "         [0.1747199 , 0.17569903, 0.21295643],\n",
       "         [0.1729992 , 0.17159864, 0.21506226]],\n",
       "\n",
       "        [[0.22951931, 0.27201006, 0.31892884],\n",
       "         [0.11264756, 0.1553859 , 0.21549745],\n",
       "         [0.08398859, 0.14519307, 0.23715112],\n",
       "         ...,\n",
       "         [0.22132729, 0.2263918 , 0.259924  ],\n",
       "         [0.18583934, 0.19405387, 0.20506953],\n",
       "         [0.19609469, 0.18497649, 0.22696078]],\n",
       "\n",
       "        ...,\n",
       "\n",
       "        [[0.7129552 , 0.6862745 , 0.6594538 ],\n",
       "         [0.7226341 , 0.6920318 , 0.6688738 ],\n",
       "         [0.720647  , 0.69004476, 0.66589636],\n",
       "         ...,\n",
       "         [0.21054047, 0.19877577, 0.23861043],\n",
       "         [0.1927321 , 0.18640833, 0.2327456 ],\n",
       "         [0.22118598, 0.220033  , 0.24447279]],\n",
       "\n",
       "        [[0.7186037 , 0.68172264, 0.6657325 ],\n",
       "         [0.71470964, 0.68235797, 0.6607868 ],\n",
       "         [0.7183624 , 0.6892795 , 0.6677809 ],\n",
       "         ...,\n",
       "         [0.2016319 , 0.19607843, 0.22759104],\n",
       "         [0.20588484, 0.20294243, 0.2363458 ],\n",
       "         [0.19369872, 0.19528562, 0.20845088]],\n",
       "\n",
       "        [[0.7166904 , 0.6791629 , 0.6557348 ],\n",
       "         [0.71139085, 0.6806485 , 0.6611582 ],\n",
       "         [0.7137255 , 0.6750163 , 0.6599602 ],\n",
       "         ...,\n",
       "         [0.19889581, 0.19761905, 0.2289916 ],\n",
       "         [0.19906712, 0.20438926, 0.23025337],\n",
       "         [0.1992847 , 0.19483419, 0.21686175]]],\n",
       "\n",
       "\n",
       "       [[[0.6854892 , 0.6811862 , 0.6946628 ],\n",
       "         [0.7192589 , 0.7192589 , 0.7256778 ],\n",
       "         [0.73985714, 0.73985714, 0.7383866 ],\n",
       "         ...,\n",
       "         [0.7052683 , 0.6711647 , 0.662535  ],\n",
       "         [0.7047832 , 0.66955906, 0.65912485],\n",
       "         [0.7185261 , 0.6797619 , 0.67058825]],\n",
       "\n",
       "        [[0.7009341 , 0.7010279 , 0.7048557 ],\n",
       "         [0.73767257, 0.7376713 , 0.7375313 ],\n",
       "         [0.7529412 , 0.74628854, 0.7396146 ],\n",
       "         ...,\n",
       "         [0.706969  , 0.6676833 , 0.6611007 ],\n",
       "         [0.71757823, 0.6782926 , 0.674441  ],\n",
       "         [0.72019184, 0.6823292 , 0.6744398 ]],\n",
       "\n",
       "        [[0.7108706 , 0.71700054, 0.7138656 ],\n",
       "         [0.77215886, 0.7759891 , 0.76931524],\n",
       "         [0.75459933, 0.7487758 , 0.7428346 ],\n",
       "         ...,\n",
       "         [0.7069666 , 0.66300017, 0.6602691 ],\n",
       "         [0.7188163 , 0.6756303 , 0.67294794],\n",
       "         [0.7176471 , 0.67921793, 0.6687837 ]],\n",
       "\n",
       "        ...,\n",
       "\n",
       "        [[0.37225142, 0.40362397, 0.4291304 ],\n",
       "         [0.375     , 0.4051821 , 0.43263307],\n",
       "         [0.3818265 , 0.41200858, 0.43945956],\n",
       "         ...,\n",
       "         [0.17590536, 0.18968962, 0.2532638 ],\n",
       "         [0.15650012, 0.1748687 , 0.23644459],\n",
       "         [0.16808347, 0.18650085, 0.24546443]],\n",
       "\n",
       "        [[0.35471815, 0.3847839 , 0.422529  ],\n",
       "         [0.38431373, 0.4117647 , 0.44299847],\n",
       "         [0.38275182, 0.4102028 , 0.43765378],\n",
       "         ...,\n",
       "         [0.16356167, 0.18578182, 0.2527711 ],\n",
       "         [0.17282663, 0.19236444, 0.24362369],\n",
       "         [0.17112595, 0.18426746, 0.23534164]],\n",
       "\n",
       "        [[0.36472964, 0.3908501 , 0.4326568 ],\n",
       "         [0.3842662 , 0.40917242, 0.44047493],\n",
       "         [0.37507004, 0.402521  , 0.43270308],\n",
       "         ...,\n",
       "         [0.12674445, 0.16408564, 0.22458984],\n",
       "         [0.17604667, 0.20748925, 0.24824555],\n",
       "         [0.17960559, 0.19705006, 0.23324704]]],\n",
       "\n",
       "\n",
       "       [[[0.18301313, 0.17779095, 0.22710818],\n",
       "         [0.17183124, 0.17137831, 0.210594  ],\n",
       "         [0.17540266, 0.17567487, 0.21434614],\n",
       "         ...,\n",
       "         [0.29788336, 0.30180493, 0.32126313],\n",
       "         [0.30452362, 0.31807405, 0.34612027],\n",
       "         [0.36100572, 0.39165315, 0.38464525]],\n",
       "\n",
       "        [[0.2025826 , 0.1959497 , 0.24346144],\n",
       "         [0.19844578, 0.20135875, 0.23636205],\n",
       "         [0.19749033, 0.19429272, 0.24326599],\n",
       "         ...,\n",
       "         [0.30466202, 0.31655547, 0.3275962 ],\n",
       "         [0.3102669 , 0.31418848, 0.31840086],\n",
       "         [0.49669796, 0.49443957, 0.49626482]],\n",
       "\n",
       "        [[0.2003292 , 0.2040503 , 0.24718755],\n",
       "         [0.2024108 , 0.21119316, 0.25480312],\n",
       "         [0.19696683, 0.20392157, 0.2480042 ],\n",
       "         ...,\n",
       "         [0.2311494 , 0.22669819, 0.23704483],\n",
       "         [0.23930839, 0.23431888, 0.24774675],\n",
       "         [0.33217242, 0.3166358 , 0.32706034]],\n",
       "\n",
       "        ...,\n",
       "\n",
       "        [[0.04834817, 0.3137255 , 0.25006214],\n",
       "         [0.03770899, 0.3114104 , 0.25268576],\n",
       "         [0.07759995, 0.3246018 , 0.272733  ],\n",
       "         ...,\n",
       "         [0.177359  , 0.21704736, 0.2906118 ],\n",
       "         [0.19291067, 0.23937428, 0.30459917],\n",
       "         [0.16529495, 0.22637688, 0.27788076]],\n",
       "\n",
       "        [[0.11197315, 0.3421157 , 0.2888769 ],\n",
       "         [0.11888716, 0.3492511 , 0.29357204],\n",
       "         [0.09632556, 0.3434709 , 0.27881137],\n",
       "         ...,\n",
       "         [0.1519124 , 0.19018888, 0.27800405],\n",
       "         [0.1812053 , 0.23189487, 0.29100922],\n",
       "         [0.19345011, 0.24549843, 0.30101544]],\n",
       "\n",
       "        [[0.09585255, 0.34170112, 0.27895603],\n",
       "         [0.0784907 , 0.3401481 , 0.26292697],\n",
       "         [0.08765928, 0.34137076, 0.26733366],\n",
       "         ...,\n",
       "         [0.19786759, 0.25641888, 0.31936446],\n",
       "         [0.14776981, 0.21112992, 0.2726648 ],\n",
       "         [0.17896166, 0.24074896, 0.30705306]]],\n",
       "\n",
       "\n",
       "       ...,\n",
       "\n",
       "\n",
       "       [[[0.21216491, 0.22020814, 0.26565754],\n",
       "         [0.19220473, 0.19643268, 0.24730296],\n",
       "         [0.19428328, 0.20637447, 0.25282055],\n",
       "         ...,\n",
       "         [0.12183479, 0.18541667, 0.34560835],\n",
       "         [0.13334483, 0.19366384, 0.34732786],\n",
       "         [0.17814606, 0.24642214, 0.36025774]],\n",
       "\n",
       "        [[0.19204676, 0.19596833, 0.23910558],\n",
       "         [0.1990895 , 0.20695657, 0.25009382],\n",
       "         [0.19961607, 0.21377145, 0.25353956],\n",
       "         ...,\n",
       "         [0.10852098, 0.17126608, 0.33364162],\n",
       "         [0.13702895, 0.20254193, 0.33174306],\n",
       "         [0.2546559 , 0.3224255 , 0.39268345]],\n",
       "\n",
       "        [[0.18889016, 0.19393478, 0.23394704],\n",
       "         [0.17751321, 0.18590686, 0.22904412],\n",
       "         [0.17663239, 0.19215687, 0.23153435],\n",
       "         ...,\n",
       "         [0.1648428 , 0.2275879 , 0.36686006],\n",
       "         [0.2615177 , 0.31991327, 0.40232843],\n",
       "         [0.29021236, 0.35910502, 0.41398686]],\n",
       "\n",
       "        ...,\n",
       "\n",
       "        [[0.1889074 , 0.2547373 , 0.32532552],\n",
       "         [0.21121515, 0.2757353 , 0.34607938],\n",
       "         [0.21292414, 0.27710056, 0.3414388 ],\n",
       "         ...,\n",
       "         [0.31436026, 0.42103916, 0.49099264],\n",
       "         [0.30698338, 0.39803538, 0.46163929],\n",
       "         [0.19344458, 0.26080537, 0.3376235 ]],\n",
       "\n",
       "        [[0.19771944, 0.2657954 , 0.33768287],\n",
       "         [0.17297506, 0.24715456, 0.31802523],\n",
       "         [0.17359643, 0.24461263, 0.31569105],\n",
       "         ...,\n",
       "         [0.31489354, 0.4360313 , 0.5104789 ],\n",
       "         [0.31926125, 0.4329628 , 0.50355107],\n",
       "         [0.2933795 , 0.38426203, 0.45262045]],\n",
       "\n",
       "        [[0.21256128, 0.2767157 , 0.34871325],\n",
       "         [0.19281939, 0.25959617, 0.33410597],\n",
       "         [0.18400735, 0.25208333, 0.3245912 ],\n",
       "         ...,\n",
       "         [0.33457893, 0.45945638, 0.53647846],\n",
       "         [0.31944892, 0.44615215, 0.5231742 ],\n",
       "         [0.32137236, 0.43811658, 0.5096077 ]]],\n",
       "\n",
       "\n",
       "       [[[0.13333334, 0.21176471, 0.34901962],\n",
       "         [0.13336836, 0.21179973, 0.34901962],\n",
       "         [0.13862045, 0.21705182, 0.34901962],\n",
       "         ...,\n",
       "         [0.20004377, 0.26803222, 0.32029063],\n",
       "         [0.19610469, 0.2627801 , 0.31766456],\n",
       "         [0.19607843, 0.2627451 , 0.31764707]],\n",
       "\n",
       "        [[0.13327205, 0.21172969, 0.34901085],\n",
       "         [0.13330716, 0.2117648 , 0.34901094],\n",
       "         [0.13857098, 0.2170286 , 0.34902266],\n",
       "         ...,\n",
       "         [0.20002027, 0.2680029 , 0.32027885],\n",
       "         [0.19609582, 0.26276252, 0.31766447],\n",
       "         [0.19606967, 0.2627276 , 0.31764707]],\n",
       "\n",
       "        [[0.12408088, 0.2064776 , 0.34769782],\n",
       "         [0.1241277 , 0.2065244 , 0.34770963],\n",
       "         [0.13115004, 0.21354675, 0.34947985],\n",
       "         ...,\n",
       "         [0.19649445, 0.2636066 , 0.3185086 ],\n",
       "         [0.19476816, 0.26012474, 0.31765276],\n",
       "         [0.19475664, 0.26010153, 0.31764707]],\n",
       "\n",
       "        ...,\n",
       "\n",
       "        [[0.2285977 , 0.33055848, 0.38418242],\n",
       "         [0.2286504 , 0.33062574, 0.3842322 ],\n",
       "         [0.23655786, 0.3407167 , 0.3916971 ],\n",
       "         ...,\n",
       "         [0.13333383, 0.20043124, 0.25750223],\n",
       "         [0.12672472, 0.19470726, 0.25351918],\n",
       "         [0.12668067, 0.19466911, 0.25349265]],\n",
       "\n",
       "        [[0.24304096, 0.34500176, 0.39599964],\n",
       "         [0.2430761 , 0.34505436, 0.39603475],\n",
       "         [0.24834578, 0.35294718, 0.4013015 ],\n",
       "         ...,\n",
       "         [0.13985498, 0.2065245 , 0.2627104 ],\n",
       "         [0.13720256, 0.20387793, 0.26268402],\n",
       "         [0.13718487, 0.2038603 , 0.2626838 ]],\n",
       "\n",
       "        [[0.24313726, 0.34509805, 0.39607844],\n",
       "         [0.24317227, 0.34515056, 0.39611343],\n",
       "         [0.24842437, 0.3530287 , 0.40136555],\n",
       "         ...,\n",
       "         [0.13989846, 0.20656513, 0.2627451 ],\n",
       "         [0.1372724 , 0.20393907, 0.2627451 ],\n",
       "         [0.13725491, 0.20392157, 0.2627451 ]]],\n",
       "\n",
       "\n",
       "       [[[0.14201681, 0.20640756, 0.2896387 ],\n",
       "         [0.14634416, 0.20310187, 0.28252208],\n",
       "         [0.13471983, 0.19286402, 0.26564404],\n",
       "         ...,\n",
       "         [0.20912491, 0.2785367 , 0.33997223],\n",
       "         [0.18856731, 0.2594538 , 0.3248334 ],\n",
       "         [0.18051408, 0.2511023 , 0.31755888]],\n",
       "\n",
       "        [[0.1458768 , 0.2015575 , 0.28555608],\n",
       "         [0.14509805, 0.20132084, 0.28627452],\n",
       "         [0.13889337, 0.1999928 , 0.27738094],\n",
       "         ...,\n",
       "         [0.21961504, 0.290434  , 0.3488167 ],\n",
       "         [0.20455182, 0.27444947, 0.33719456],\n",
       "         [0.17999981, 0.24951106, 0.3203094 ]],\n",
       "\n",
       "        [[0.15530118, 0.21151273, 0.28614852],\n",
       "         [0.15196703, 0.21555246, 0.2904546 ],\n",
       "         [0.12993728, 0.19660395, 0.27412528],\n",
       "         ...,\n",
       "         [0.24103516, 0.31803095, 0.37685448],\n",
       "         [0.24094574, 0.3162887 , 0.37427193],\n",
       "         [0.24570048, 0.3150632 , 0.38371164]],\n",
       "\n",
       "        ...,\n",
       "\n",
       "        [[0.27820003, 0.39530092, 0.4795096 ],\n",
       "         [0.2597914 , 0.38611478, 0.47034407],\n",
       "         [0.26141268, 0.3849424 , 0.46796125],\n",
       "         ...,\n",
       "         [0.04971645, 0.04019358, 0.10048863],\n",
       "         [0.06358543, 0.05098039, 0.09411765],\n",
       "         [0.04755527, 0.05298932, 0.09808767]],\n",
       "\n",
       "        [[0.24413452, 0.36462617, 0.4504805 ],\n",
       "         [0.2358231 , 0.36491   , 0.44561732],\n",
       "         [0.22420813, 0.34988776, 0.42583314],\n",
       "         ...,\n",
       "         [0.08997693, 0.09076162, 0.14090885],\n",
       "         [0.04667148, 0.04965736, 0.10067871],\n",
       "         [0.05173257, 0.07588379, 0.12644403]],\n",
       "\n",
       "        [[0.20129833, 0.3125    , 0.39768627],\n",
       "         [0.18707013, 0.30199453, 0.3732396 ],\n",
       "         [0.18489489, 0.2816736 , 0.3442086 ],\n",
       "         ...,\n",
       "         [0.1466668 , 0.17495811, 0.22581251],\n",
       "         [0.12399303, 0.15168066, 0.19646358],\n",
       "         [0.1330154 , 0.17016526, 0.22702238]]]], dtype=float32)"
      ]
     },
     "execution_count": 18,
     "metadata": {},
     "output_type": "execute_result"
    }
   ],
   "source": [
    "x_train"
   ]
  },
  {
   "cell_type": "code",
   "execution_count": 19,
   "metadata": {},
   "outputs": [
    {
     "data": {
      "text/plain": [
       "array([[0., 0., 0., ..., 0., 0., 0.],\n",
       "       [0., 0., 0., ..., 0., 1., 0.],\n",
       "       [0., 0., 0., ..., 0., 1., 0.],\n",
       "       ...,\n",
       "       [0., 0., 0., ..., 0., 0., 0.],\n",
       "       [0., 0., 0., ..., 1., 0., 0.],\n",
       "       [0., 0., 1., ..., 0., 0., 0.]], dtype=float32)"
      ]
     },
     "execution_count": 19,
     "metadata": {},
     "output_type": "execute_result"
    }
   ],
   "source": [
    "y_train"
   ]
  },
  {
   "cell_type": "code",
   "execution_count": 4,
   "metadata": {
    "id": "owrdVxphunVm"
   },
   "outputs": [],
   "source": [
    "from tensorflow.keras.models import Sequential\n",
    "from tensorflow.keras.layers import Conv2D, Dropout, MaxPooling2D, Flatten, Dense\n"
   ]
  },
  {
   "cell_type": "code",
   "execution_count": null,
   "metadata": {},
   "outputs": [],
   "source": []
  },
  {
   "cell_type": "markdown",
   "metadata": {
    "id": "EXuYjis2unVn"
   },
   "source": [
    "## Neural Network 1"
   ]
  },
  {
   "cell_type": "code",
   "execution_count": 12,
   "metadata": {
    "id": "_vaEpWN-unVo"
   },
   "outputs": [],
   "source": [
    "from tensorflow.keras.models import Sequential\n",
    "from tensorflow.keras.layers import Flatten, Dense\n",
    "\n",
    "model0 = Sequential()\n",
    "model0.add(Flatten())\n",
    "model0.add(Dense(128, activation=\"relu\"))\n",
    "model0.add(Dense(12, activation=\"softmax\"))"
   ]
  },
  {
   "cell_type": "code",
   "execution_count": 15,
   "metadata": {
    "colab": {
     "base_uri": "https://localhost:8080/"
    },
    "id": "PSsGYM2munVo",
    "outputId": "86227e3b-acaa-4cae-b500-63125d9967c0"
   },
   "outputs": [
    {
     "ename": "NameError",
     "evalue": "name 'x_train' is not defined",
     "output_type": "error",
     "traceback": [
      "\u001b[1;31m---------------------------------------------------------------------------\u001b[0m",
      "\u001b[1;31mNameError\u001b[0m                                 Traceback (most recent call last)",
      "\u001b[1;32m~\\AppData\\Local\\Temp\\ipykernel_21968\\60021674.py\u001b[0m in \u001b[0;36m<module>\u001b[1;34m\u001b[0m\n\u001b[0;32m      3\u001b[0m \u001b[1;33m\u001b[0m\u001b[0m\n\u001b[0;32m      4\u001b[0m \u001b[1;31m# Fit the model\u001b[0m\u001b[1;33m\u001b[0m\u001b[1;33m\u001b[0m\u001b[1;33m\u001b[0m\u001b[0m\n\u001b[1;32m----> 5\u001b[1;33m \u001b[0mmodel0\u001b[0m\u001b[1;33m.\u001b[0m\u001b[0mfit\u001b[0m\u001b[1;33m(\u001b[0m\u001b[0mx\u001b[0m\u001b[1;33m=\u001b[0m\u001b[0mx_train\u001b[0m\u001b[1;33m,\u001b[0m \u001b[0my\u001b[0m\u001b[1;33m=\u001b[0m\u001b[0my_train\u001b[0m\u001b[1;33m,\u001b[0m \u001b[0mbatch_size\u001b[0m\u001b[1;33m=\u001b[0m\u001b[1;36m32\u001b[0m\u001b[1;33m,\u001b[0m \u001b[0mepochs\u001b[0m\u001b[1;33m=\u001b[0m\u001b[1;36m10\u001b[0m\u001b[1;33m,\u001b[0m \u001b[0mvalidation_data\u001b[0m\u001b[1;33m=\u001b[0m\u001b[1;33m(\u001b[0m\u001b[0mx_test\u001b[0m\u001b[1;33m,\u001b[0m \u001b[0my_test\u001b[0m\u001b[1;33m)\u001b[0m\u001b[1;33m)\u001b[0m\u001b[1;33m\u001b[0m\u001b[1;33m\u001b[0m\u001b[0m\n\u001b[0m",
      "\u001b[1;31mNameError\u001b[0m: name 'x_train' is not defined"
     ]
    }
   ],
   "source": [
    "# Compile the model\n",
    "model0.compile(loss=\"categorical_crossentropy\", metrics=[\"accuracy\"], optimizer=\"sgd\")\n",
    "\n",
    "# Fit the model\n",
    "model0.fit(x=x_train, y=y_train, batch_size=32, epochs=10, validation_data=(x_test, y_test))"
   ]
  },
  {
   "cell_type": "code",
   "execution_count": 14,
   "metadata": {},
   "outputs": [
    {
     "ename": "ValueError",
     "evalue": "This model has not yet been built. Build the model first by calling `build()` or by calling the model on a batch of data.",
     "output_type": "error",
     "traceback": [
      "\u001b[1;31m---------------------------------------------------------------------------\u001b[0m",
      "\u001b[1;31mValueError\u001b[0m                                Traceback (most recent call last)",
      "\u001b[1;32m~\\AppData\\Local\\Temp\\ipykernel_21968\\3470139634.py\u001b[0m in \u001b[0;36m<module>\u001b[1;34m\u001b[0m\n\u001b[1;32m----> 1\u001b[1;33m \u001b[0mmodel\u001b[0m\u001b[1;33m.\u001b[0m\u001b[0msummary\u001b[0m\u001b[1;33m(\u001b[0m\u001b[1;33m)\u001b[0m\u001b[1;33m\u001b[0m\u001b[1;33m\u001b[0m\u001b[0m\n\u001b[0m",
      "\u001b[1;32m~\\anaconda3\\envs\\new\\lib\\site-packages\\keras\\engine\\training.py\u001b[0m in \u001b[0;36msummary\u001b[1;34m(self, line_length, positions, print_fn, expand_nested, show_trainable)\u001b[0m\n\u001b[0;32m   2774\u001b[0m     \u001b[1;32mif\u001b[0m \u001b[1;32mnot\u001b[0m \u001b[0mself\u001b[0m\u001b[1;33m.\u001b[0m\u001b[0mbuilt\u001b[0m\u001b[1;33m:\u001b[0m\u001b[1;33m\u001b[0m\u001b[1;33m\u001b[0m\u001b[0m\n\u001b[0;32m   2775\u001b[0m       raise ValueError(\n\u001b[1;32m-> 2776\u001b[1;33m           \u001b[1;34m'This model has not yet been built. '\u001b[0m\u001b[1;33m\u001b[0m\u001b[1;33m\u001b[0m\u001b[0m\n\u001b[0m\u001b[0;32m   2777\u001b[0m           \u001b[1;34m'Build the model first by calling `build()` or by calling '\u001b[0m\u001b[1;33m\u001b[0m\u001b[1;33m\u001b[0m\u001b[0m\n\u001b[0;32m   2778\u001b[0m           'the model on a batch of data.')\n",
      "\u001b[1;31mValueError\u001b[0m: This model has not yet been built. Build the model first by calling `build()` or by calling the model on a batch of data."
     ]
    }
   ],
   "source": [
    "model.summary()"
   ]
  },
  {
   "cell_type": "code",
   "execution_count": null,
   "metadata": {
    "colab": {
     "base_uri": "https://localhost:8080/"
    },
    "id": "xPXRLKX_unVp",
    "outputId": "012926e8-450a-4ba5-bdb3-f24fe7d01514"
   },
   "outputs": [
    {
     "name": "stdout",
     "output_type": "stream",
     "text": [
      "38/38 [==============================] - 1s 32ms/step - loss: 2.4270 - accuracy: 0.1482\n"
     ]
    },
    {
     "data": {
      "text/plain": [
       "[2.4269967079162598, 0.14824120700359344]"
      ]
     },
     "execution_count": 33,
     "metadata": {},
     "output_type": "execute_result"
    }
   ],
   "source": [
    "model0.evaluate(x_test, y_test)"
   ]
  },
  {
   "cell_type": "markdown",
   "metadata": {
    "id": "9vrNukdRunVp"
   },
   "source": [
    "#Basic NN is giving very less accuracy of 0.14%"
   ]
  },
  {
   "cell_type": "code",
   "execution_count": 5,
   "metadata": {
    "id": "KAx7vOXbunVq"
   },
   "outputs": [],
   "source": [
    "from __future__ import print_function\n",
    "from tensorflow import keras\n",
    "from tensorflow.keras.datasets import mnist\n",
    "from tensorflow.keras.models import Sequential\n",
    "from tensorflow.keras.layers import Dense, Dropout, Flatten\n",
    "from tensorflow.keras.layers import Conv2D\n",
    "from tensorflow.keras.layers import MaxPooling2D\n",
    "#from tensorflow.keras.layers import backend as k"
   ]
  },
  {
   "cell_type": "code",
   "execution_count": 6,
   "metadata": {
    "id": "b597wLDFunVq"
   },
   "outputs": [],
   "source": [
    "from tensorflow.keras.layers import Activation, Dropout, Dense, Conv2D, Flatten, Dropout, MaxPooling2D, BatchNormalization"
   ]
  },
  {
   "cell_type": "markdown",
   "metadata": {
    "id": "9zs_C3_TunVu"
   },
   "source": [
    "## Neural Network 2"
   ]
  },
  {
   "cell_type": "markdown",
   "metadata": {
    "id": "9vrNukdRunVp"
   },
   "source": [
    "#Adding more layers and batch normalization"
   ]
  },
  {
   "cell_type": "code",
   "execution_count": 7,
   "metadata": {
    "id": "fLdWVDRGunVu"
   },
   "outputs": [],
   "source": [
    "model = Sequential()"
   ]
  },
  {
   "cell_type": "code",
   "execution_count": 8,
   "metadata": {
    "id": "EbNfehR0unVu"
   },
   "outputs": [],
   "source": [
    "#### Adding Batch normalization layer \n",
    "\n",
    "#Hidden Layer 1\n",
    "model.add(Flatten())\n",
    "model.add(Dense(512, kernel_initializer='he_normal'))#,input_shape = (1024, )))\n",
    "model.add(BatchNormalization())\n",
    "#Adding Activation function\n",
    "model.add(Activation('relu'))\n",
    "\n",
    "#Hidden Layer 2\n",
    "\n",
    "model.add(Dense(256, kernel_initializer='he_normal'))\n",
    "model.add(BatchNormalization())\n",
    "#Adding Activation function\n",
    "model.add(Activation('relu'))\n",
    "\n",
    "#Hidden Layer 3\n",
    "\n",
    "model.add(Dense(128, kernel_initializer='he_normal'))\n",
    "model.add(BatchNormalization())\n",
    "#Adding Activation function\n",
    "model.add(Activation('relu'))\n",
    "\n",
    "#Hidden Layer 4\n",
    "#Adding third Hidden layer\n",
    "model.add(Dense(64, kernel_initializer='he_normal'))\n",
    "model.add(BatchNormalization())\n",
    "\n",
    "model.add(Activation('relu'))\n",
    "\n",
    "#Hidden Layer 5\n",
    "\n",
    "model.add(Dense(32, kernel_initializer='he_normal'))\n",
    "model.add(BatchNormalization())\n",
    "#Adding Activation function\n",
    "model.add(Activation('relu'))\n",
    "\n",
    "# Output Layer\n",
    "#Adding output layer which is of 10 nodes (digits)\n",
    "model.add(Dense(12))\n",
    "#Adding Activation function\n",
    "# Here, we are using softmax function because we have multiclass classsification\n",
    "model.add(Activation('softmax'))"
   ]
  },
  {
   "cell_type": "code",
   "execution_count": 9,
   "metadata": {
    "colab": {
     "base_uri": "https://localhost:8080/"
    },
    "id": "XMVl3rSGunVv",
    "outputId": "2bba670a-8f4b-4f16-95c4-04383c696872"
   },
   "outputs": [
    {
     "name": "stdout",
     "output_type": "stream",
     "text": [
      "Train on 3575 samples, validate on 1192 samples\n",
      "Epoch 1/10\n",
      "3575/3575 [==============================] - 6s 2ms/sample - loss: 2.3561 - accuracy: 0.2006 - val_loss: 2.4596 - val_accuracy: 0.1451\n",
      "Epoch 2/10\n",
      "3575/3575 [==============================] - 4s 1ms/sample - loss: 1.8206 - accuracy: 0.4439 - val_loss: 2.4172 - val_accuracy: 0.2366\n",
      "Epoch 3/10\n",
      "3575/3575 [==============================] - 4s 1ms/sample - loss: 1.4665 - accuracy: 0.5866 - val_loss: 3.0528 - val_accuracy: 0.1602\n",
      "Epoch 4/10\n",
      "3575/3575 [==============================] - 4s 1ms/sample - loss: 1.2088 - accuracy: 0.6848 - val_loss: 2.4870 - val_accuracy: 0.2273\n",
      "Epoch 5/10\n",
      "3575/3575 [==============================] - 4s 1ms/sample - loss: 0.9949 - accuracy: 0.7583 - val_loss: 2.2937 - val_accuracy: 0.3104\n",
      "Epoch 6/10\n",
      "3575/3575 [==============================] - 4s 1ms/sample - loss: 0.8086 - accuracy: 0.8227 - val_loss: 2.1652 - val_accuracy: 0.3398\n",
      "Epoch 7/10\n",
      "3575/3575 [==============================] - 4s 1ms/sample - loss: 0.6492 - accuracy: 0.8778 - val_loss: 2.1252 - val_accuracy: 0.3054\n",
      "Epoch 8/10\n",
      "3575/3575 [==============================] - 4s 1ms/sample - loss: 0.5270 - accuracy: 0.9069 - val_loss: 2.7337 - val_accuracy: 0.2576\n",
      "Epoch 9/10\n",
      "3575/3575 [==============================] - 4s 1ms/sample - loss: 0.4328 - accuracy: 0.9278 - val_loss: 3.7149 - val_accuracy: 0.2223\n",
      "Epoch 10/10\n",
      "3575/3575 [==============================] - 4s 1ms/sample - loss: 0.3535 - accuracy: 0.9413 - val_loss: 2.1971 - val_accuracy: 0.3104\n"
     ]
    },
    {
     "data": {
      "text/plain": [
       "<tensorflow.python.keras.callbacks.History at 0x2398a09aa08>"
      ]
     },
     "execution_count": 9,
     "metadata": {},
     "output_type": "execute_result"
    }
   ],
   "source": [
    "# Compile the model\n",
    "model.compile(loss=\"categorical_crossentropy\", metrics=[\"accuracy\"], optimizer=\"sgd\")\n",
    "\n",
    "# Fit the model\n",
    "model.fit(x=x_train, y=y_train, batch_size=32, epochs=10, validation_data=(x_test, y_test))"
   ]
  },
  {
   "cell_type": "code",
   "execution_count": 10,
   "metadata": {
    "colab": {
     "base_uri": "https://localhost:8080/"
    },
    "id": "dbfbtYwxunVw",
    "outputId": "dd3c5b3e-1167-42a9-9b89-ec60c3df81e0"
   },
   "outputs": [
    {
     "name": "stdout",
     "output_type": "stream",
     "text": [
      "Model: \"sequential\"\n",
      "_________________________________________________________________\n",
      "Layer (type)                 Output Shape              Param #   \n",
      "=================================================================\n",
      "flatten (Flatten)            multiple                  0         \n",
      "_________________________________________________________________\n",
      "dense (Dense)                multiple                  77070848  \n",
      "_________________________________________________________________\n",
      "batch_normalization (BatchNo multiple                  2048      \n",
      "_________________________________________________________________\n",
      "activation (Activation)      multiple                  0         \n",
      "_________________________________________________________________\n",
      "dense_1 (Dense)              multiple                  131328    \n",
      "_________________________________________________________________\n",
      "batch_normalization_1 (Batch multiple                  1024      \n",
      "_________________________________________________________________\n",
      "activation_1 (Activation)    multiple                  0         \n",
      "_________________________________________________________________\n",
      "dense_2 (Dense)              multiple                  32896     \n",
      "_________________________________________________________________\n",
      "batch_normalization_2 (Batch multiple                  512       \n",
      "_________________________________________________________________\n",
      "activation_2 (Activation)    multiple                  0         \n",
      "_________________________________________________________________\n",
      "dense_3 (Dense)              multiple                  8256      \n",
      "_________________________________________________________________\n",
      "batch_normalization_3 (Batch multiple                  256       \n",
      "_________________________________________________________________\n",
      "activation_3 (Activation)    multiple                  0         \n",
      "_________________________________________________________________\n",
      "dense_4 (Dense)              multiple                  2080      \n",
      "_________________________________________________________________\n",
      "batch_normalization_4 (Batch multiple                  128       \n",
      "_________________________________________________________________\n",
      "activation_4 (Activation)    multiple                  0         \n",
      "_________________________________________________________________\n",
      "dense_5 (Dense)              multiple                  396       \n",
      "_________________________________________________________________\n",
      "activation_5 (Activation)    multiple                  0         \n",
      "=================================================================\n",
      "Total params: 77,249,772\n",
      "Trainable params: 77,247,788\n",
      "Non-trainable params: 1,984\n",
      "_________________________________________________________________\n"
     ]
    }
   ],
   "source": [
    "model.summary()"
   ]
  },
  {
   "cell_type": "code",
   "execution_count": 11,
   "metadata": {
    "colab": {
     "base_uri": "https://localhost:8080/"
    },
    "id": "sCL8Pz1-unVx",
    "outputId": "a5254ec0-e4e0-45fc-8963-5d7231e3290a"
   },
   "outputs": [
    {
     "name": "stdout",
     "output_type": "stream",
     "text": [
      "1192/1192 [==============================] - 1s 447us/sample - loss: 2.1971 - accuracy: 0.3104\n",
      "Val_acc using Batch  :  0.3104027\n"
     ]
    }
   ],
   "source": [
    "results_1 = model.evaluate(x_test, y_test)\n",
    "print('Val_acc using Batch  : ', results_1[1])"
   ]
  },
  {
   "cell_type": "markdown",
   "metadata": {
    "id": "9vrNukdRunVp"
   },
   "source": [
    "Adding more layers and with batch normalization accuracy has increased to 31%"
   ]
  },
  {
   "cell_type": "code",
   "execution_count": null,
   "metadata": {
    "colab": {
     "base_uri": "https://localhost:8080/"
    },
    "id": "J1S2RHppAt1r",
    "outputId": "a7273a0e-985e-4020-b84b-558669aa8b2b"
   },
   "outputs": [
    {
     "data": {
      "text/plain": [
       "<keras.callbacks.History at 0x7f859e207290>"
      ]
     },
     "execution_count": 58,
     "metadata": {},
     "output_type": "execute_result"
    }
   ],
   "source": [
    "model.history"
   ]
  },
  {
   "cell_type": "code",
   "execution_count": 12,
   "metadata": {
    "colab": {
     "base_uri": "https://localhost:8080/",
     "height": 234
    },
    "id": "AMC_dvjPunVy",
    "outputId": "ed09a6ba-c76b-4041-8572-cc34709bac43"
   },
   "outputs": [
    {
     "data": {
      "image/png": "[encoded data removed]",
      "text/plain": [
       "<Figure size 640x480 with 1 Axes>"
      ]
     },
     "metadata": {},
     "output_type": "display_data"
    }
   ],
   "source": [
    "loss_train = model.history.history['loss']\n",
    "loss_val = model.history.history['val_loss']\n",
    "epochs = range(1,10+1)\n",
    "plt.plot(epochs, loss_train, 'g', label='Training loss')\n",
    "plt.plot(epochs, loss_val, 'b', label='validation loss')\n",
    "plt.title('Training and Validation loss')\n",
    "plt.xlabel('Epochs')\n",
    "plt.ylabel('Loss')\n",
    "\n",
    "plt.legend()\n",
    "plt.show()"
   ]
  },
  {
   "cell_type": "code",
   "execution_count": 13,
   "metadata": {
    "colab": {
     "base_uri": "https://localhost:8080/",
     "height": 234
    },
    "id": "pnPuQxIzunVz",
    "outputId": "414f873f-6ac4-436a-98e3-64965e440bfd"
   },
   "outputs": [
    {
     "data": {
      "image/png": "[encoded data removed]",
      "text/plain": [
       "<Figure size 640x480 with 1 Axes>"
      ]
     },
     "metadata": {},
     "output_type": "display_data"
    }
   ],
   "source": [
    "accuracy_train = model.history.history['accuracy']\n",
    "accuracy_val = model.history.history['val_accuracy']\n",
    "epochs = range(1,10+1)\n",
    "plt.plot(epochs, accuracy_train, 'g', label='Training Accuracy')\n",
    "plt.plot(epochs, accuracy_val, 'b', label='validation Accuracy')\n",
    "plt.title('Training and Validation accuracy')\n",
    "plt.xlabel('Epochs')\n",
    "plt.ylabel('Accuracy')\n",
    "plt.legend()\n",
    "plt.show()"
   ]
  },
  {
   "cell_type": "code",
   "execution_count": null,
   "metadata": {
    "id": "YVj7ifxYunV2"
   },
   "outputs": [],
   "source": [
    "#  model is overfitting"
   ]
  },
  {
   "cell_type": "markdown",
   "metadata": {
    "id": "kbIgicLzunV2"
   },
   "source": [
    "## Convolutional Neural Network"
   ]
  },
  {
   "cell_type": "code",
   "execution_count": 10,
   "metadata": {
    "id": "JI_UE9oxunV3"
   },
   "outputs": [],
   "source": [
    "from tensorflow.keras.layers import Conv2D\n",
    "\n",
    "modelx = Sequential()\n",
    "modelx.add(Conv2D(filters=32, kernel_size=3, activation=\"relu\", input_shape=(224, 224, 3)))\n",
    "modelx.add(Conv2D(filters=32, kernel_size=3, activation=\"relu\"))\n",
    "modelx.add(Flatten())\n",
    "modelx.add(Dense(128, activation=\"relu\"))\n",
    "modelx.add(Dense(12, activation=\"softmax\"))"
   ]
  },
  {
   "cell_type": "code",
   "execution_count": 11,
   "metadata": {
    "colab": {
     "base_uri": "https://localhost:8080/"
    },
    "id": "OaDaPfeNunV3",
    "outputId": "80be9e4a-5996-4a02-e155-668e8a8bdf22"
   },
   "outputs": [
    {
     "name": "stdout",
     "output_type": "stream",
     "text": [
      "Epoch 1/10\n",
      "79/79 [==============================] - 467s 6s/step - loss: 6.3738 - accuracy: 0.1189 - val_loss: 2.4745 - val_accuracy: 0.1312\n",
      "Epoch 2/10\n",
      "79/79 [==============================] - 465s 6s/step - loss: 2.3541 - accuracy: 0.2123 - val_loss: 2.4418 - val_accuracy: 0.1823\n",
      "Epoch 3/10\n",
      "79/79 [==============================] - 462s 6s/step - loss: 1.5447 - accuracy: 0.5227 - val_loss: 2.0209 - val_accuracy: 0.3526\n",
      "Epoch 4/10\n",
      "79/79 [==============================] - 470s 6s/step - loss: 0.5449 - accuracy: 0.8484 - val_loss: 2.5259 - val_accuracy: 0.3312\n",
      "Epoch 5/10\n",
      "79/79 [==============================] - 468s 6s/step - loss: 0.2211 - accuracy: 0.9461 - val_loss: 3.0646 - val_accuracy: 0.3219\n",
      "Epoch 6/10\n",
      "79/79 [==============================] - 465s 6s/step - loss: 0.0568 - accuracy: 0.9872 - val_loss: 2.7657 - val_accuracy: 0.3674\n",
      "Epoch 7/10\n",
      "79/79 [==============================] - 471s 6s/step - loss: 0.0224 - accuracy: 0.9964 - val_loss: 3.3780 - val_accuracy: 0.3805\n",
      "Epoch 8/10\n",
      "79/79 [==============================] - 465s 6s/step - loss: 0.0088 - accuracy: 1.0000 - val_loss: 3.4117 - val_accuracy: 0.4065\n",
      "Epoch 9/10\n",
      "79/79 [==============================] - 468s 6s/step - loss: 0.0020 - accuracy: 1.0000 - val_loss: 3.3766 - val_accuracy: 0.4121\n",
      "Epoch 10/10\n",
      "79/79 [==============================] - 470s 6s/step - loss: 9.9187e-04 - accuracy: 1.0000 - val_loss: 3.4531 - val_accuracy: 0.4158\n"
     ]
    },
    {
     "data": {
      "text/plain": [
       "<keras.callbacks.History at 0x7fe9f251ded0>"
      ]
     },
     "execution_count": 11,
     "metadata": {},
     "output_type": "execute_result"
    }
   ],
   "source": [
    "# Compile the model\n",
    "modelx.compile(loss=\"categorical_crossentropy\", metrics=[\"accuracy\"], optimizer=\"adam\")\n",
    "\n",
    "# Fit the model\n",
    "modelx.fit( x=x_train, y=y_train, batch_size=32, epochs=10, validation_split = 0.3)"
   ]
  },
  {
   "cell_type": "code",
   "execution_count": 12,
   "metadata": {
    "colab": {
     "base_uri": "https://localhost:8080/"
    },
    "id": "vYt93n4BGqdE",
    "outputId": "7760cded-f64f-4c05-bc6e-597d808fef7c"
   },
   "outputs": [
    {
     "name": "stdout",
     "output_type": "stream",
     "text": [
      "38/38 [==============================] - 40s 1s/step - loss: 3.3413 - accuracy: 0.4146\n",
      "Accuracy :  0.4145728647708893\n"
     ]
    }
   ],
   "source": [
    "resultsx = modelx.evaluate(x_test, y_test)\n",
    "print('Accuracy : ', resultsx[1])"
   ]
  },
  {
   "cell_type": "code",
   "execution_count": null,
   "metadata": {},
   "outputs": [],
   "source": []
  },
  {
   "cell_type": "markdown",
   "metadata": {
    "id": "9vrNukdRunVp"
   },
   "source": [
    "We are getting an accuracy of 41.4% using CNN."
   ]
  },
  {
   "cell_type": "code",
   "execution_count": 16,
   "metadata": {
    "id": "xCdejLGgunV4"
   },
   "outputs": [],
   "source": [
    "modelx.save(\"modelx.h5\")"
   ]
  },
  {
   "cell_type": "code",
   "execution_count": 48,
   "metadata": {
    "id": "FI1sQK1DunV5"
   },
   "outputs": [],
   "source": [
    "def __preprocessImage(image):\n",
    "    image = np.array(image, dtype = \"float32\")\n",
    "    image = cv2.resize(image, (size, size))\n",
    "    image = np.reshape(image, (size, size, 3)) \n",
    "    image /= 255.0\n",
    "    \n",
    "    return np.array(image, dtype = \"float32\")\n",
    "\n",
    "x_data_test = []\n",
    "    \n",
    "def __extractImages(path):\n",
    "    global x_data_test\n",
    "    image = cv2.imread(path)\n",
    "    x_data_test.append(__preprocessImage(image))\n",
    "\n",
    "x_path = \"/content/drive/MyDrive/Seedling - Prediction\"\n",
    "images = os.listdir(x_path)\n",
    "\n",
    "for image in images:\n",
    "    __extractImages(x_path + \"/\" + image)\n",
    "x_data_test = np.array(x_data_test, dtype = \"float32\")"
   ]
  },
  {
   "cell_type": "markdown",
   "metadata": {},
   "source": [
    "## Prediction using CNN"
   ]
  },
  {
   "cell_type": "code",
   "execution_count": 49,
   "metadata": {
    "colab": {
     "base_uri": "https://localhost:8080/"
    },
    "id": "EpB-u1iiunV5",
    "outputId": "4fd686a9-ff5a-42a1-b3c8-9afddd830fca"
   },
   "outputs": [
    {
     "data": {
      "text/plain": [
       "array([[6.3027302e-04, 3.8484428e-05, 1.9094204e-09, 1.2237376e-07,\n",
       "        5.3807680e-06, 3.6950618e-01, 6.2661982e-01, 5.6537317e-07,\n",
       "        2.0892365e-04, 2.9900642e-03, 2.5007137e-07, 7.9259523e-11]],\n",
       "      dtype=float32)"
      ]
     },
     "execution_count": 49,
     "metadata": {},
     "output_type": "execute_result"
    }
   ],
   "source": [
    "modelx.predict(x_data_test)"
   ]
  },
  {
   "cell_type": "code",
   "execution_count": 50,
   "metadata": {
    "id": "aFQDrNWAunV5"
   },
   "outputs": [],
   "source": [
    "pred=modelx.predict(x_data_test)"
   ]
  },
  {
   "cell_type": "code",
   "execution_count": 51,
   "metadata": {
    "colab": {
     "base_uri": "https://localhost:8080/"
    },
    "id": "EfS7kLJdunV6",
    "outputId": "6d70dd86-19ad-428d-82b8-b81a3e567da2"
   },
   "outputs": [
    {
     "data": {
      "text/plain": [
       "6"
      ]
     },
     "execution_count": 51,
     "metadata": {},
     "output_type": "execute_result"
    }
   ],
   "source": [
    "np.argmax(pred)"
   ]
  },
  {
   "cell_type": "code",
   "execution_count": 52,
   "metadata": {
    "colab": {
     "base_uri": "https://localhost:8080/"
    },
    "id": "jN-wL31nc21L",
    "outputId": "26d892d2-ee28-406f-c9ef-c06f1a203a51"
   },
   "outputs": [
    {
     "data": {
      "text/plain": [
       "['Shepherds Purse',\n",
       " 'Maize',\n",
       " 'Loose Silky-bent',\n",
       " 'Sugar beet',\n",
       " 'Small-flowered Cranesbill',\n",
       " 'Fat Hen',\n",
       " 'Common Chickweed',\n",
       " 'Cleavers',\n",
       " 'Common wheat',\n",
       " 'Scentless Mayweed',\n",
       " 'Charlock',\n",
       " 'Black-grass']"
      ]
     },
     "execution_count": 52,
     "metadata": {},
     "output_type": "execute_result"
    }
   ],
   "source": [
    "classes = os.listdir(\"/content/drive/MyDrive/train\")\n",
    "classes"
   ]
  },
  {
   "cell_type": "code",
   "execution_count": 54,
   "metadata": {
    "colab": {
     "base_uri": "https://localhost:8080/",
     "height": 35
    },
    "id": "9GxwmQQYc29l",
    "outputId": "1d71f086-4f28-4d00-baa0-04b956154c1c"
   },
   "outputs": [
    {
     "data": {
      "application/vnd.google.colaboratory.intrinsic+json": {
       "type": "string"
      },
      "text/plain": [
       "'Common Chickweed'"
      ]
     },
     "execution_count": 54,
     "metadata": {},
     "output_type": "execute_result"
    }
   ],
   "source": [
    "classes[np.argmax(pred)]"
   ]
  },
  {
   "cell_type": "code",
   "execution_count": null,
   "metadata": {},
   "outputs": [],
   "source": []
  },
  {
   "cell_type": "markdown",
   "metadata": {},
   "source": [
    "Best accuracy has been achieved using Random forest.\n",
    "Lets see prediction using Random Forest"
   ]
  },
  {
   "cell_type": "markdown",
   "metadata": {},
   "source": [
    "## Prediction using Random Forest"
   ]
  },
  {
   "cell_type": "code",
   "execution_count": 52,
   "metadata": {},
   "outputs": [],
   "source": [
    "def __preprocessImage(image):\n",
    "    image = np.array(image, dtype = \"float32\")\n",
    "    image = cv2.resize(image, (size, size))\n",
    "    image = np.reshape(image, (size, size, 3)) \n",
    "    image /= 255.0\n",
    "    \n",
    "    return np.array(image, dtype = \"float32\")\n",
    "\n",
    "x_data_test = []\n",
    "    \n",
    "def __extractImages(path):\n",
    "    global x_data_test\n",
    "    image = cv2.imread(path)\n",
    "    x_data_test.append(__preprocessImage(image))\n",
    "\n",
    "x_path = r\"C:\\Users\\vikra\\OneDrive\\Documents\\AI Notes\\comptr vision\\project1\\Seedling - Prediction\"\n",
    "images = os.listdir(x_path)\n",
    "\n",
    "for image in images:\n",
    "    __extractImages(x_path + \"/\" + image)\n",
    "x_data_test = np.array(x_data_test, dtype = \"float32\")"
   ]
  },
  {
   "cell_type": "code",
   "execution_count": 54,
   "metadata": {},
   "outputs": [],
   "source": [
    "#Reshape data from 2D to 1D -> 32X32 to 1024\n",
    "x_data_test = np.asarray(x_data_test).reshape(x_data_test.shape[0],224*224*3)"
   ]
  },
  {
   "cell_type": "code",
   "execution_count": 56,
   "metadata": {},
   "outputs": [],
   "source": [
    "pred=rfcl.predict(x_data_test)\n"
   ]
  },
  {
   "cell_type": "code",
   "execution_count": 57,
   "metadata": {},
   "outputs": [
    {
     "data": {
      "text/plain": [
       "array([7], dtype=int64)"
      ]
     },
     "execution_count": 57,
     "metadata": {},
     "output_type": "execute_result"
    }
   ],
   "source": [
    "pred"
   ]
  },
  {
   "cell_type": "code",
   "execution_count": 61,
   "metadata": {},
   "outputs": [
    {
     "data": {
      "text/plain": [
       "'Maize'"
      ]
     },
     "execution_count": 61,
     "metadata": {},
     "output_type": "execute_result"
    }
   ],
   "source": [
    "classes = os.listdir(r\"C:\\Users\\vikra\\OneDrive\\Documents\\AI Notes\\comptr vision\\project1\\train\")\n",
    "classes[7]"
   ]
  },
  {
   "cell_type": "markdown",
   "metadata": {},
   "source": [
    "# Conclusion"
   ]
  },
  {
   "cell_type": "markdown",
   "metadata": {},
   "source": [
    "Using KNN we are getting an accuracy of 25%\n",
    "\n",
    "Using Random Forest we are getting an accuracy of 49.6%.\n",
    "CNN with batch normalization is giving accuracy of 31%.\n",
    "\n",
    "We are getting an accuracy of 41.4% using CNN.\n",
    "\n",
    "CNN has predicted the prediction image as 'Common Chickweed'\n",
    "\n",
    "Best accuracy has been achieved using CNN.\n",
    "\n",
    "In images dataset CNN performs best among supervised ML algorithms and neural networks.\n",
    "\n",
    "Feature engineering is not required in CNN. It saves a lot of calculation in the dense layer. This way it ensures higher accuracy. \n",
    "\n",
    "Random forest has predicted the prediction image as 'Maize'"
   ]
  },
  {
   "cell_type": "code",
   "execution_count": null,
   "metadata": {},
   "outputs": [],
   "source": []
  }
 ],
 "metadata": {
  "colab": {
   "collapsed_sections": [],
   "name": "seedlings-classification-pytorch-pca-nn-Copy3.ipynb",
   "provenance": []
  },
  "kernelspec": {
   "display_name": "Python 3",
   "language": "python",
   "name": "python3"
  },
  "language_info": {
   "codemirror_mode": {
    "name": "ipython",
    "version": 3
   },
   "file_extension": ".py",
   "mimetype": "text/x-python",
   "name": "python",
   "nbconvert_exporter": "python",
   "pygments_lexer": "ipython3",
   "version": "3.7.6"
  }
 },
 "nbformat": 4,
 "nbformat_minor": 1
}
