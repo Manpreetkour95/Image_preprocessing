{
 "cells": [
  {
   "cell_type": "code",
   "execution_count": null,
   "id": "03df384f",
   "metadata": {},
   "outputs": [],
   "source": []
  },
  {
   "cell_type": "code",
   "execution_count": 6,
   "id": "04146609",
   "metadata": {},
   "outputs": [
    {
     "name": "stdout",
     "output_type": "stream",
     "text": [
      "0.0\n",
      "The two images are similar.\n"
     ]
    }
   ],
   "source": [
    "from PIL import Image\n",
    "\n",
    "# Load the two images to be compared\n",
    "img1 = Image.open(path1)\n",
    "img2 = Image.open(path2)\n",
    "\n",
    "# Convert the images to RGB mode if they are not already in RGB mode\n",
    "if img1.mode != 'RGB':\n",
    "    img1 = img1.convert('RGB')\n",
    "if img2.mode != 'RGB':\n",
    "    img2 = img2.convert('RGB')\n",
    "\n",
    "# Calculate the Mean Squared Error (MSE) between the two images\n",
    "mse = 0\n",
    "for i in range(img1.width):\n",
    "    for j in range(img1.height):\n",
    "        r1, g1, b1 = img1.getpixel((i, j))\n",
    "        r2, g2, b2 = img2.getpixel((i, j))\n",
    "        mse += (r1 - r2) ** 2 + (g1 - g2) ** 2 + (b1 - b2) ** 2\n",
    "mse /= (img1.width * img1.height * 3)\n",
    "\n",
    "# Define a threshold for the MSE\n",
    "mse_threshold = 10\n",
    "print(mse)\n",
    "# Compare the MSE with the threshold\n",
    "if mse < mse_threshold:\n",
    "    print(\"The two images are similar.\")\n",
    "else:\n",
    "    print(\"The two images are different.\")\n"
   ]
  },
  {
   "cell_type": "code",
   "execution_count": 9,
   "id": "077432b2",
   "metadata": {},
   "outputs": [
    {
     "name": "stdout",
     "output_type": "stream",
     "text": [
      "327.3261453806763\n",
      "The two images are different.\n"
     ]
    }
   ],
   "source": [
    "from PIL import Image, ImageChops\n",
    "\n",
    "# Load the two images to be compared\n",
    "\n",
    "# Load the two images to be compared\n",
    "img1 = Image.open(path1)\n",
    "img2 = Image.open(path2)\n",
    "# Convert the images to grayscale for histogram comparison\n",
    "img1_gray = img1.convert('L')\n",
    "img2_gray = img2.convert('L')\n",
    "\n",
    "# Calculate the histograms of the two images\n",
    "hist1 = img1_gray.histogram()\n",
    "hist2 = img2_gray.histogram()\n",
    "\n",
    "# Calculate the difference between the two histograms\n",
    "diff = sum((h1 - h2) ** 2 for h1, h2 in zip(hist1, hist2))\n",
    "\n",
    "# Normalize the difference to a value between 0 and 1\n",
    "normalizer = (len(hist1) ** 2) * (img1.size[0] * img1.size[1])\n",
    "similarity_score = diff / normalizer\n",
    "\n",
    "# Define a threshold for the similarity score\n",
    "similarity_threshold = 0.1\n",
    "print(similarity_score)\n",
    "# Compare the similarity score with the threshold\n",
    "if similarity_score < similarity_threshold:\n",
    "    print(\"The two images are similar.\")\n",
    "else:\n",
    "    print(\"The two images are different.\")\n"
   ]
  },
  {
   "cell_type": "code",
   "execution_count": 10,
   "id": "edb428e8",
   "metadata": {},
   "outputs": [
    {
     "ename": "AttributeError",
     "evalue": "shape",
     "output_type": "error",
     "traceback": [
      "\u001b[1;31m---------------------------------------------------------------------------\u001b[0m",
      "\u001b[1;31mAttributeError\u001b[0m                            Traceback (most recent call last)",
      "\u001b[1;32m~\\AppData\\Local\\Temp\\ipykernel_32356\\2941127904.py\u001b[0m in \u001b[0;36m<module>\u001b[1;34m\u001b[0m\n\u001b[0;32m     11\u001b[0m \u001b[1;33m\u001b[0m\u001b[0m\n\u001b[0;32m     12\u001b[0m \u001b[1;31m# Calculate the Structural Similarity Index (SSIM) between the two images\u001b[0m\u001b[1;33m\u001b[0m\u001b[1;33m\u001b[0m\u001b[1;33m\u001b[0m\u001b[0m\n\u001b[1;32m---> 13\u001b[1;33m \u001b[0msimilarity_score\u001b[0m \u001b[1;33m=\u001b[0m \u001b[0mssim\u001b[0m\u001b[1;33m(\u001b[0m\u001b[0mimg1_gray\u001b[0m\u001b[1;33m,\u001b[0m \u001b[0mimg2_gray\u001b[0m\u001b[1;33m)\u001b[0m\u001b[1;33m\u001b[0m\u001b[1;33m\u001b[0m\u001b[0m\n\u001b[0m\u001b[0;32m     14\u001b[0m \u001b[1;33m\u001b[0m\u001b[0m\n\u001b[0;32m     15\u001b[0m \u001b[1;31m# Define a threshold for the similarity score\u001b[0m\u001b[1;33m\u001b[0m\u001b[1;33m\u001b[0m\u001b[1;33m\u001b[0m\u001b[0m\n",
      "\u001b[1;32m~\\anaconda3\\envs\\new\\lib\\site-packages\\skimage\\_shared\\utils.py\u001b[0m in \u001b[0;36mfixed_func\u001b[1;34m(*args, **kwargs)\u001b[0m\n\u001b[0;32m    346\u001b[0m \u001b[1;33m\u001b[0m\u001b[0m\n\u001b[0;32m    347\u001b[0m             \u001b[1;31m# Call the function with the fixed arguments\u001b[0m\u001b[1;33m\u001b[0m\u001b[1;33m\u001b[0m\u001b[1;33m\u001b[0m\u001b[0m\n\u001b[1;32m--> 348\u001b[1;33m             \u001b[1;32mreturn\u001b[0m \u001b[0mfunc\u001b[0m\u001b[1;33m(\u001b[0m\u001b[1;33m*\u001b[0m\u001b[0margs\u001b[0m\u001b[1;33m,\u001b[0m \u001b[1;33m**\u001b[0m\u001b[0mkwargs\u001b[0m\u001b[1;33m)\u001b[0m\u001b[1;33m\u001b[0m\u001b[1;33m\u001b[0m\u001b[0m\n\u001b[0m\u001b[0;32m    349\u001b[0m \u001b[1;33m\u001b[0m\u001b[0m\n\u001b[0;32m    350\u001b[0m         \u001b[1;32mif\u001b[0m \u001b[0mfunc\u001b[0m\u001b[1;33m.\u001b[0m\u001b[0m__doc__\u001b[0m \u001b[1;32mis\u001b[0m \u001b[1;32mnot\u001b[0m \u001b[1;32mNone\u001b[0m\u001b[1;33m:\u001b[0m\u001b[1;33m\u001b[0m\u001b[1;33m\u001b[0m\u001b[0m\n",
      "\u001b[1;32m~\\anaconda3\\envs\\new\\lib\\site-packages\\skimage\\metrics\\_structural_similarity.py\u001b[0m in \u001b[0;36mstructural_similarity\u001b[1;34m(im1, im2, win_size, gradient, data_range, channel_axis, multichannel, gaussian_weights, full, **kwargs)\u001b[0m\n\u001b[0;32m     99\u001b[0m \u001b[1;33m\u001b[0m\u001b[0m\n\u001b[0;32m    100\u001b[0m     \"\"\"\n\u001b[1;32m--> 101\u001b[1;33m     \u001b[0mcheck_shape_equality\u001b[0m\u001b[1;33m(\u001b[0m\u001b[0mim1\u001b[0m\u001b[1;33m,\u001b[0m \u001b[0mim2\u001b[0m\u001b[1;33m)\u001b[0m\u001b[1;33m\u001b[0m\u001b[1;33m\u001b[0m\u001b[0m\n\u001b[0m\u001b[0;32m    102\u001b[0m     \u001b[0mfloat_type\u001b[0m \u001b[1;33m=\u001b[0m \u001b[0m_supported_float_type\u001b[0m\u001b[1;33m(\u001b[0m\u001b[0mim1\u001b[0m\u001b[1;33m.\u001b[0m\u001b[0mdtype\u001b[0m\u001b[1;33m)\u001b[0m\u001b[1;33m\u001b[0m\u001b[1;33m\u001b[0m\u001b[0m\n\u001b[0;32m    103\u001b[0m \u001b[1;33m\u001b[0m\u001b[0m\n",
      "\u001b[1;32m~\\anaconda3\\envs\\new\\lib\\site-packages\\skimage\\_shared\\utils.py\u001b[0m in \u001b[0;36mcheck_shape_equality\u001b[1;34m(im1, im2)\u001b[0m\n\u001b[0;32m    566\u001b[0m \u001b[1;32mdef\u001b[0m \u001b[0mcheck_shape_equality\u001b[0m\u001b[1;33m(\u001b[0m\u001b[0mim1\u001b[0m\u001b[1;33m,\u001b[0m \u001b[0mim2\u001b[0m\u001b[1;33m)\u001b[0m\u001b[1;33m:\u001b[0m\u001b[1;33m\u001b[0m\u001b[1;33m\u001b[0m\u001b[0m\n\u001b[0;32m    567\u001b[0m     \u001b[1;34m\"\"\"Raise an error if the shape do not match.\"\"\"\u001b[0m\u001b[1;33m\u001b[0m\u001b[1;33m\u001b[0m\u001b[0m\n\u001b[1;32m--> 568\u001b[1;33m     \u001b[1;32mif\u001b[0m \u001b[1;32mnot\u001b[0m \u001b[0mim1\u001b[0m\u001b[1;33m.\u001b[0m\u001b[0mshape\u001b[0m \u001b[1;33m==\u001b[0m \u001b[0mim2\u001b[0m\u001b[1;33m.\u001b[0m\u001b[0mshape\u001b[0m\u001b[1;33m:\u001b[0m\u001b[1;33m\u001b[0m\u001b[1;33m\u001b[0m\u001b[0m\n\u001b[0m\u001b[0;32m    569\u001b[0m         \u001b[1;32mraise\u001b[0m \u001b[0mValueError\u001b[0m\u001b[1;33m(\u001b[0m\u001b[1;34m'Input images must have the same dimensions.'\u001b[0m\u001b[1;33m)\u001b[0m\u001b[1;33m\u001b[0m\u001b[1;33m\u001b[0m\u001b[0m\n\u001b[0;32m    570\u001b[0m     \u001b[1;32mreturn\u001b[0m\u001b[1;33m\u001b[0m\u001b[1;33m\u001b[0m\u001b[0m\n",
      "\u001b[1;32m~\\anaconda3\\envs\\new\\lib\\site-packages\\PIL\\Image.py\u001b[0m in \u001b[0;36m__getattr__\u001b[1;34m(self, name)\u001b[0m\n\u001b[0;32m    517\u001b[0m             )\n\u001b[0;32m    518\u001b[0m             \u001b[1;32mreturn\u001b[0m \u001b[0mself\u001b[0m\u001b[1;33m.\u001b[0m\u001b[0m_category\u001b[0m\u001b[1;33m\u001b[0m\u001b[1;33m\u001b[0m\u001b[0m\n\u001b[1;32m--> 519\u001b[1;33m         \u001b[1;32mraise\u001b[0m \u001b[0mAttributeError\u001b[0m\u001b[1;33m(\u001b[0m\u001b[0mname\u001b[0m\u001b[1;33m)\u001b[0m\u001b[1;33m\u001b[0m\u001b[1;33m\u001b[0m\u001b[0m\n\u001b[0m\u001b[0;32m    520\u001b[0m \u001b[1;33m\u001b[0m\u001b[0m\n\u001b[0;32m    521\u001b[0m     \u001b[1;33m@\u001b[0m\u001b[0mproperty\u001b[0m\u001b[1;33m\u001b[0m\u001b[1;33m\u001b[0m\u001b[0m\n",
      "\u001b[1;31mAttributeError\u001b[0m: shape"
     ]
    }
   ],
   "source": [
    "from PIL import Image\n",
    "from skimage.metrics import structural_similarity as ssim\n",
    "\n",
    "# Load the two images to be compared\n",
    "img1 = Image.open(path1)\n",
    "img2 = Image.open(path2)\n",
    "\n",
    "# Convert the images to grayscale for SSIM comparison\n",
    "img1_gray = img1.convert('L')\n",
    "img2_gray = img2.convert('L')\n",
    "\n",
    "# Calculate the Structural Similarity Index (SSIM) between the two images\n",
    "similarity_score = ssim(img1_gray, img2_gray)\n",
    "\n",
    "# Define a threshold for the similarity score\n",
    "similarity_threshold = 0.9\n",
    "\n",
    "# Compare the similarity score with the threshold\n",
    "if similarity_score > similarity_threshold:\n",
    "    print(\"The two images are similar.\")\n",
    "else:\n",
    "    print(\"The two images are different.\")\n"
   ]
  },
  {
   "cell_type": "code",
   "execution_count": null,
   "id": "f256bf1c",
   "metadata": {},
   "outputs": [],
   "source": []
  }
 ],
 "metadata": {
  "kernelspec": {
   "display_name": "Python 3 (ipykernel)",
   "language": "python",
   "name": "python3"
  },
  "language_info": {
   "codemirror_mode": {
    "name": "ipython",
    "version": 3
   },
   "file_extension": ".py",
   "mimetype": "text/x-python",
   "name": "python",
   "nbconvert_exporter": "python",
   "pygments_lexer": "ipython3",
   "version": "3.7.6"
  }
 },
 "nbformat": 4,
 "nbformat_minor": 5
}
